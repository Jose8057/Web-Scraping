{
 "cells": [
  {
   "cell_type": "markdown",
   "metadata": {},
   "source": [
    "# Insights from Web Scraping\n",
    "\n",
    "by Xiang Ou"
   ]
  },
  {
   "cell_type": "markdown",
   "metadata": {},
   "source": [
    "## Content:\n",
    "### [Project Objective](#P)\n",
    "### [Read Url](#R)\n",
    "### [Find all titles in the webpage](#F)\n",
    "### [Read the Webpage by Section](#W)\n",
    "###  [Regex Looking for hyperlinks](#h)\n",
    "### [Read One of Topics in Section](#O)\n",
    "### [Extract  Paragraphy of the webpage](#E)\n",
    "### [Plot1](#1)\n",
    "### [Plot2](#2)\n",
    "### [Extract  Information of another webpage](#I)\n",
    "### [Plot3](#3)\n",
    "### [Plot4](#4)\n",
    "### [Summary](#u)\n",
    "### [Conclusion](#Co)"
   ]
  },
  {
   "cell_type": "markdown",
   "metadata": {},
   "source": [
    "### <span id=\"P\">Project Objective</span>"
   ]
  },
  {
   "cell_type": "markdown",
   "metadata": {},
   "source": [
    "Handshake was created in 2013, it is commited to bridge all college students to meaningful careers. As a leading early career community in the US,Handshake build network with different universties and varity companies providing students internship, part time and full time job opportunities. Moreover, Handshake also provide diversified learning resource  for students to improve their interview skills in order to wellprepare for interview.My objective for this project is to explore the learning resouce area to better understand current job market situation and sharp my interview skills. "
   ]
  },
  {
   "cell_type": "code",
   "execution_count": 349,
   "metadata": {
    "scrolled": true
   },
   "outputs": [],
   "source": [
    "import requests\n",
    "from bs4 import BeautifulSoup\n",
    "import lxml\n",
    "import re\n",
    "import numpy as np\n",
    "import pandas as pd\n",
    "import matplotlib.pyplot as plt\n",
    "import pandas as pd"
   ]
  },
  {
   "cell_type": "markdown",
   "metadata": {},
   "source": [
    "### <span id=\"R\">Read url with BeautifulSoup</span>"
   ]
  },
  {
   "cell_type": "code",
   "execution_count": 78,
   "metadata": {},
   "outputs": [],
   "source": [
    "url= 'https://learn.joinhandshake.com/students/'"
   ]
  },
  {
   "cell_type": "code",
   "execution_count": 261,
   "metadata": {},
   "outputs": [
    {
     "name": "stdout",
     "output_type": "stream",
     "text": [
      "<Response [200]>\n"
     ]
    }
   ],
   "source": [
    "response=requests.get(url)\n",
    "\n",
    "print(response)"
   ]
  },
  {
   "cell_type": "code",
   "execution_count": 80,
   "metadata": {
    "scrolled": false
   },
   "outputs": [],
   "source": [
    "soup=BeautifulSoup(response.content)\n",
    "\n"
   ]
  },
  {
   "cell_type": "markdown",
   "metadata": {},
   "source": [
    "Success on getting informaton from website with BeautifulSoup."
   ]
  },
  {
   "cell_type": "markdown",
   "metadata": {},
   "source": [
    "### <span id=\"F\">Find all titles in the webpage</span>"
   ]
  },
  {
   "cell_type": "code",
   "execution_count": 262,
   "metadata": {
    "scrolled": true
   },
   "outputs": [
    {
     "name": "stdout",
     "output_type": "stream",
     "text": [
      "\n",
      "\t\t\t\t\t\tRelevant to your career search, right now.\t\t\t\t\t\n",
      "\n",
      "\t\t\t\t\t\tDiscovering your career \n",
      "\n",
      "\t\t\t\t\t\tGet hired remotely \n",
      "\n",
      "\t\t\t\t\t\tHandshake student stories \n",
      "\n",
      "\t\t\t\t\t\tHiring on Handshake \n",
      "\n",
      "\t\t\t\t\t\tJob Roles \n",
      "\n",
      "\t\t\t\t\t\tLife after graduation \n",
      "\n",
      "\t\t\t\t\t\tProfessional highlights \n",
      "\n",
      "\t\t\t\t\t\tResearch career paths \n",
      "\n",
      "\t\t\t\t\t\tResumes and cover letters \n",
      "\n",
      "\t\t\t\t\t\tSchool year success \n",
      "\n",
      "\t\t\t\t\t\tThe internship series \n",
      "\n",
      "\t\t\t\t\t\tUsing Handshake \n",
      "\n",
      "\t\t\t\t\t\tVideos \n"
     ]
    }
   ],
   "source": [
    "for title in soup.find_all('h2'):\n",
    "    print(title.get_text())"
   ]
  },
  {
   "cell_type": "markdown",
   "metadata": {},
   "source": [
    "### <span id=\"W\">Read the Webpage by Section</span>"
   ]
  },
  {
   "cell_type": "code",
   "execution_count": 82,
   "metadata": {},
   "outputs": [],
   "source": [
    "all=[]\n",
    "for section in soup.find_all('section',class_='category-panel category-panel--3-up category-panel--'):\n",
    "    all.append(section)\n"
   ]
  },
  {
   "cell_type": "markdown",
   "metadata": {},
   "source": [
    "Print section 10 of this webpage"
   ]
  },
  {
   "cell_type": "code",
   "execution_count": 263,
   "metadata": {
    "scrolled": true
   },
   "outputs": [
    {
     "name": "stdout",
     "output_type": "stream",
     "text": [
      "<section class=\"category-panel category-panel--3-up category-panel--\">\n",
      " <div class=\"grid-container width-100\">\n",
      "  <div class=\"grid-x grid-margin-x grid-margin-y\">\n",
      "   <div class=\"category-panel__title cell small-12\">\n",
      "    <a class=\"\" href=\"https://learn.joinhandshake.com/students/category/internship-series/\">\n",
      "     <h2 class=\"\">\n",
      "      The internship series\n",
      "      <svg fill=\"none\" height=\"20\" width=\"13\" xmlns=\"http://www.w3.org/2000/svg\">\n",
      "       <path d=\"M2 2l8 8-8 8\" stroke=\"#000\" stroke-linecap=\"round\" stroke-width=\"3\">\n",
      "       </path>\n",
      "      </svg>\n",
      "     </h2>\n",
      "    </a>\n",
      "   </div>\n",
      "   <article class=\"posts-grid__single cell small-12 medium-4 grid-x align-top post-6461 post type-post status-publish format-standard has-post-thumbnail hentry category-school-year-success category-internship-series tag-career-advice\" id=\"post-6461\">\n",
      "    <div class=\"post-info\">\n",
      "     <p class=\"post-info__category\">\n",
      "      <a href=\"https://learn.joinhandshake.com/students/category/school-year-success/\" rel=\"category tag\">\n",
      "       School year success\n",
      "      </a>\n",
      "      ,\n",
      "      <a href=\"https://learn.joinhandshake.com/students/category/internship-series/\" rel=\"category tag\">\n",
      "       The internship series\n",
      "      </a>\n",
      "     </p>\n",
      "     <a href=\"https://learn.joinhandshake.com/students/how-to-secure-a-great-letter-of-recommendation/\">\n",
      "      <img alt=\"How to ask for a letter of recommendation\" data-lazy=\"\n",
      "\t\t[https://i2.wp.com/learn.joinhandshake.com/wp-content/uploads/2021/01/pexels-photo-1311518.jpeg?resize=640%2C427&amp;ssl=1, small],\n",
      "\t\t[https://i2.wp.com/learn.joinhandshake.com/wp-content/uploads/2021/01/pexels-photo-1311518.jpeg?resize=1200%2C800&amp;ssl=1, medium]\"/>\n",
      "     </a>\n",
      "     <div class=\"post-info__meta\">\n",
      "      <a href=\"https://learn.joinhandshake.com/students/how-to-secure-a-great-letter-of-recommendation/\">\n",
      "       <h4 class=\"post-info__title\">\n",
      "        How to Secure a Great Letter of Recommendation\n",
      "       </h4>\n",
      "       <p class=\"post-info__excerpt\">\n",
      "        Tips for asking for a letter of recommendation that will boost your applications.\n",
      "       </p>\n",
      "      </a>\n",
      "      <p class=\"post-info__read-time\">\n",
      "       3 minute read\n",
      "      </p>\n",
      "     </div>\n",
      "    </div>\n",
      "   </article>\n",
      "   <article class=\"posts-grid__single cell small-12 medium-4 grid-x align-top post-6147 post type-post status-publish format-standard has-post-thumbnail hentry category-resumes-and-cover-letters category-internship-series tag-internship-cover-letter tag-internships-for-college-students\" id=\"post-6147\">\n",
      "    <div class=\"post-info\">\n",
      "     <p class=\"post-info__category\">\n",
      "      <a href=\"https://learn.joinhandshake.com/students/category/resumes-and-cover-letters/\" rel=\"category tag\">\n",
      "       Resumes and cover letters\n",
      "      </a>\n",
      "      ,\n",
      "      <a href=\"https://learn.joinhandshake.com/students/category/internship-series/\" rel=\"category tag\">\n",
      "       The internship series\n",
      "      </a>\n",
      "     </p>\n",
      "     <a href=\"https://learn.joinhandshake.com/students/top-5-tips-for-writing-an-internship-cover-letter/\">\n",
      "      <img alt=\"How to write an internship cover letter\" data-lazy=\"\n",
      "\t\t[https://i1.wp.com/learn.joinhandshake.com/wp-content/uploads/2021/01/windows-H9oXWdbFw_Y-unsplash-1-e1610136576309.jpg?resize=640%2C427&amp;ssl=1, small],\n",
      "\t\t[https://i1.wp.com/learn.joinhandshake.com/wp-content/uploads/2021/01/windows-H9oXWdbFw_Y-unsplash-1-e1610136576309.jpg?resize=1200%2C800&amp;ssl=1, medium]\"/>\n",
      "     </a>\n",
      "     <div class=\"post-info__meta\">\n",
      "      <a href=\"https://learn.joinhandshake.com/students/top-5-tips-for-writing-an-internship-cover-letter/\">\n",
      "       <h4 class=\"post-info__title\">\n",
      "        Top 5 Tips for Writing an Internship Cover Letter\n",
      "       </h4>\n",
      "       <p class=\"post-info__excerpt\">\n",
      "        Learn how to create a cover letter that helps your internship application stand out.\n",
      "       </p>\n",
      "      </a>\n",
      "      <p class=\"post-info__read-time\">\n",
      "       3 minute read\n",
      "      </p>\n",
      "     </div>\n",
      "    </div>\n",
      "   </article>\n",
      "   <article class=\"posts-grid__single cell small-12 medium-4 grid-x align-top post-5025 post type-post status-publish format-standard has-post-thumbnail hentry category-internship-series tag-finance tag-get-hired-remotely tag-goldman-sachs tag-handshake-employers tag-internships-for-college-students tag-remote-work tag-virtual-jobs\" id=\"post-5025\">\n",
      "    <div class=\"post-info\">\n",
      "     <p class=\"post-info__category\">\n",
      "      <a href=\"https://learn.joinhandshake.com/students/category/internship-series/\" rel=\"category tag\">\n",
      "       The internship series\n",
      "      </a>\n",
      "     </p>\n",
      "     <a href=\"https://learn.joinhandshake.com/students/goldman-sachs-2020-intern-survey/\">\n",
      "      <img alt=\"What Does the Future of Work Hold? Nearly 3,000 Goldman Sachs Interns Weigh In\" data-lazy=\"\n",
      "\t\t[https://i1.wp.com/learn.joinhandshake.com/wp-content/uploads/2020/11/pexels-cottonbro-5054213.jpg?resize=640%2C427&amp;ssl=1, small],\n",
      "\t\t[https://i1.wp.com/learn.joinhandshake.com/wp-content/uploads/2020/11/pexels-cottonbro-5054213.jpg?resize=1200%2C800&amp;ssl=1, medium]\"/>\n",
      "     </a>\n",
      "     <div class=\"post-info__meta\">\n",
      "      <a href=\"https://learn.joinhandshake.com/students/goldman-sachs-2020-intern-survey/\">\n",
      "       <h4 class=\"post-info__title\">\n",
      "        What Does the Future of Work Hold? Nearly 3,000 Goldman Sachs Interns Weigh In\n",
      "       </h4>\n",
      "       <p class=\"post-info__excerpt\">\n",
      "        Summer interns share the impact they believe virtual work will have on their generation’s future.\n",
      "       </p>\n",
      "      </a>\n",
      "      <p class=\"post-info__read-time\">\n",
      "       3 minute read\n",
      "      </p>\n",
      "     </div>\n",
      "    </div>\n",
      "   </article>\n",
      "  </div>\n",
      "  <!-- /.grid-x -->\n",
      " </div>\n",
      " <!-- /.grid-container -->\n",
      "</section>\n",
      "\n"
     ]
    }
   ],
   "source": [
    "print(all[10].prettify())\n"
   ]
  },
  {
   "cell_type": "markdown",
   "metadata": {},
   "source": [
    "# Read  section 10"
   ]
  },
  {
   "cell_type": "code",
   "execution_count": 84,
   "metadata": {
    "scrolled": false
   },
   "outputs": [
    {
     "name": "stdout",
     "output_type": "stream",
     "text": [
      "How to Secure a Great Letter of Recommendation\n",
      "Top 5 Tips for Writing an Internship Cover Letter\n",
      "What Does the Future of Work Hold? Nearly 3,000 Goldman Sachs Interns Weigh In\n"
     ]
    }
   ],
   "source": [
    "for tag in all[10].find_all('h4',class_=\"post-info__title\"):\n",
    "    print(tag.get_text())"
   ]
  },
  {
   "cell_type": "markdown",
   "metadata": {},
   "source": [
    "Above are topics in section10."
   ]
  },
  {
   "cell_type": "markdown",
   "metadata": {},
   "source": [
    "### <span id=\"h\">Regex looking for hyperlinks</span>"
   ]
  },
  {
   "cell_type": "code",
   "execution_count": 117,
   "metadata": {},
   "outputs": [],
   "source": [
    "string=str(all[10])"
   ]
  },
  {
   "cell_type": "markdown",
   "metadata": {},
   "source": [
    "Using website patterns to look for website in section10."
   ]
  },
  {
   "cell_type": "code",
   "execution_count": 162,
   "metadata": {},
   "outputs": [],
   "source": [
    "http=re.findall(r'(a href=\"https://([\\w_-]+(?:(?:\\.[\\w_-]+)+))([\\w.,@?^=%&:/~+#-]*[\\w@?^=%&/~+#-])?)',string)\n",
    "\n"
   ]
  },
  {
   "cell_type": "code",
   "execution_count": 163,
   "metadata": {
    "scrolled": true
   },
   "outputs": [
    {
     "data": {
      "text/plain": [
       "{('a href=\"https://learn.joinhandshake.com/students/category/internship-series/',\n",
       "  'learn.joinhandshake.com',\n",
       "  '/students/category/internship-series/'),\n",
       " ('a href=\"https://learn.joinhandshake.com/students/category/resumes-and-cover-letters/',\n",
       "  'learn.joinhandshake.com',\n",
       "  '/students/category/resumes-and-cover-letters/'),\n",
       " ('a href=\"https://learn.joinhandshake.com/students/category/school-year-success/',\n",
       "  'learn.joinhandshake.com',\n",
       "  '/students/category/school-year-success/'),\n",
       " ('a href=\"https://learn.joinhandshake.com/students/goldman-sachs-2020-intern-survey/',\n",
       "  'learn.joinhandshake.com',\n",
       "  '/students/goldman-sachs-2020-intern-survey/'),\n",
       " ('a href=\"https://learn.joinhandshake.com/students/how-to-secure-a-great-letter-of-recommendation/',\n",
       "  'learn.joinhandshake.com',\n",
       "  '/students/how-to-secure-a-great-letter-of-recommendation/'),\n",
       " ('a href=\"https://learn.joinhandshake.com/students/top-5-tips-for-writing-an-internship-cover-letter/',\n",
       "  'learn.joinhandshake.com',\n",
       "  '/students/top-5-tips-for-writing-an-internship-cover-letter/')}"
      ]
     },
     "execution_count": 163,
     "metadata": {},
     "output_type": "execute_result"
    }
   ],
   "source": [
    "set(http)"
   ]
  },
  {
   "cell_type": "markdown",
   "metadata": {},
   "source": [
    "### <span id=\"O\">Read One of Topics in  Section 10</span>"
   ]
  },
  {
   "cell_type": "code",
   "execution_count": 169,
   "metadata": {},
   "outputs": [],
   "source": [
    "url='https://learn.joinhandshake.com/students/top-5-tips-for-writing-an-internship-cover-letter/'"
   ]
  },
  {
   "cell_type": "code",
   "execution_count": 170,
   "metadata": {
    "scrolled": true
   },
   "outputs": [
    {
     "name": "stdout",
     "output_type": "stream",
     "text": [
      "<Response [200]>\n"
     ]
    }
   ],
   "source": [
    "response1=requests.get(url)\n",
    "\n",
    "print(response)"
   ]
  },
  {
   "cell_type": "code",
   "execution_count": 264,
   "metadata": {},
   "outputs": [],
   "source": [
    "top5=BeautifulSoup(response1.content)\n",
    "\n"
   ]
  },
  {
   "cell_type": "markdown",
   "metadata": {},
   "source": [
    "Read context of this topic,  top 5 tips for writing an internship cover letter. "
   ]
  },
  {
   "cell_type": "code",
   "execution_count": 265,
   "metadata": {
    "scrolled": false
   },
   "outputs": [
    {
     "name": "stdout",
     "output_type": "stream",
     "text": [
      "\n",
      "Before you start writing your cover letter, read the internship posting carefully. Pay attention to the intern’s primary responsibilities, as well as the desired skills and experience for candidates. Keep the posting handy so you can refer back to it while you write.\n",
      "Learn the sections of a cover letter and download our free template. \n",
      "Customize each letter\n",
      "One of the most important cover letter tips: do not use the same generic letter for all of your applications. Employers will be able to tell you didn’t take time to create a unique letter for them. Instead, open your cover letter by sharing why you’re excited about this internship and employer, and why you’re a good fit.\n",
      "Include keywords and supporting details\n",
      "It is common for employers to scan resumes and cover letters for keywords related to the internship. Be sure to incorporate any skills or experience that you have that are listed in the description. \n",
      "And while your resume lists your technical skills and experience, cover letters are where you can talk about desirable soft skills like communication and project management. If you’re mentioning soft skills, provide support. For example, if you want to highlight your leadership skills, you can detail a time when you led a group project or served as a student group officer.\n",
      "Highlight coursework and extracurriculars\n",
      "Don’t worry if you don’t have much work experience. Describe relevant coursework and major projects you’ve worked on that demonstrate your knowledge and skills. \n",
      "You can also add your involvement with student groups or volunteer opportunities that you’ve taken. These combined experiences show your initiative and help you stand out as a candidate.\n",
      "Share what you’d like to accomplish\n",
      "Cover letters aren’t just for telling employers why they should hire you. They’re also an opportunity to share what you believe you’ll get from the internship experience. Whether it’s gaining a new skill or learning more about an industry, share it and why it’s important to you.\n",
      "Proofread and ask for feedback\n",
      "Once your cover letter is ready, carefully read through it and check for spelling, punctuation and grammar mistakes. Have a friend or family member review it as well and give their feedback.\n",
      "Don’t forget to contact your school’s career center and schedule an appointment to go over your cover letter, resume, and other application questions you may have.Get started on your internship cover letter by downloading our free template.\n",
      "\n"
     ]
    }
   ],
   "source": [
    "for data in top5. find_all('div',class_='entry-content' ):\n",
    "    print(data.get_text())"
   ]
  },
  {
   "cell_type": "markdown",
   "metadata": {},
   "source": [
    "# Extract the 5 tips for the text "
   ]
  },
  {
   "cell_type": "code",
   "execution_count": 266,
   "metadata": {
    "scrolled": true
   },
   "outputs": [
    {
     "name": "stdout",
     "output_type": "stream",
     "text": [
      "Top 5 Tips for Writing an Internship Cover Letter\n",
      "Customize each letter\n",
      "Include keywords and supporting details\n",
      "Highlight coursework and extracurriculars\n",
      "Share what you’d like to accomplish\n",
      "Proofread and ask for feedback\n"
     ]
    }
   ],
   "source": [
    "for tips in top5. find_all('h1'):\n",
    "    print(tips.get_text())"
   ]
  },
  {
   "cell_type": "markdown",
   "metadata": {},
   "source": [
    "# Read Another Topic of Section 10"
   ]
  },
  {
   "cell_type": "code",
   "execution_count": 293,
   "metadata": {},
   "outputs": [],
   "source": [
    "url=\"https://learn.joinhandshake.com/students/goldman-sachs-2020-intern-survey/\""
   ]
  },
  {
   "cell_type": "code",
   "execution_count": 294,
   "metadata": {},
   "outputs": [
    {
     "name": "stdout",
     "output_type": "stream",
     "text": [
      "<Response [200]>\n"
     ]
    }
   ],
   "source": [
    "response2=requests.get(url)\n",
    "\n",
    "print(response2)"
   ]
  },
  {
   "cell_type": "code",
   "execution_count": 295,
   "metadata": {},
   "outputs": [],
   "source": [
    "survey=BeautifulSoup(response2.content)\n"
   ]
  },
  {
   "cell_type": "markdown",
   "metadata": {},
   "source": [
    "Read context of the topic\n"
   ]
  },
  {
   "cell_type": "code",
   "execution_count": 296,
   "metadata": {
    "scrolled": true
   },
   "outputs": [
    {
     "name": "stdout",
     "output_type": "stream",
     "text": [
      "\n",
      "2020 has been such a wild ride that nearly every day this year prompted the question, “What next?” Indeed, when COVID-19 led to campus and business closures, state-enforced shelter in place, and many canceled plans, college students felt a heavy impact. As many said goodbye to friends and trekked back to childhood bedrooms with no return to normalcy in sight, one might have expected a dreary experience and turnout for summer interns. Thankfully, this was far from true. We’ve heard from many 2020 interns that, even remotely, their summers were full of valuable professional learning experiences that have sparked their careers. Nearly 3,000 Goldman Sachs summer analysts and associates were just as optimistic!\n",
      "Each year, the leading global financial services firm surveys its summer intern class to learn more about their experiences and predictions for the future. 2020 was no exception, despite 71% of summer interns joining from their homes instead of New York City, London, São Paulo, and other Goldman Sachs branches around the world. Thanks in part to Goldman Sachs’s Handshake Premium partnership, this year’s intern class consisted of over 2,700 summer analysts and 129 summer associates, who represented 54 majors from nearly 500 universities. The poll asked interns to weigh in on fun topics, like their social media platforms of choice—the vast majority favor Instagram and only 23% use TikTok—as well as more serious topics, like the impact they believe virtual work will have on their generation’s future. \n",
      "Remote work isn’t going anywhere \n",
      "A majority 63% of interns surveyed believe that COVID-19 will lead to increased remote work options and lasting professional flexibility. This positive sentiment toward a virtual future is undoubtedly due to the positive experience described in many of the reviews left by interns who worked remotely: “Goldman Sachs did a wonderful job giving the interns the best experience possible without being in office. The projects I was given to work on really gave me a sense of what I would be doing if I were a full-time employee.” \n",
      "Despite great experiences during their virtual summer at Goldman Sachs, 75% of the respondents fear that remote work and school will negatively impact their relationships; a concern echoed in a recent Handshake survey about mental health. Perhaps that’s why video calls are so important: 64% of the intern class prefers connecting face-to-face through video, instead of talking on the phone. \n",
      "COVID-19 has made priorities crystal clear\n",
      "More than half of Goldman Sachs’s interns say that they’re spending less and saving more in the wake of COVID-19, prioritizing their finances more effectively than they might have without the economic uncertainty of a pandemic. But money isn’t everything! \n",
      "When asked about their top concerns while looking for their next role, salary fell behind the employer’s core mission. In a year when organizations were defined by their stances on important topics like racial equity, it’s no surprise that college students want to work for companies that contribute to an important cause. Here are their top reported concerns for future jobs, in order:\n",
      "Advancement opportunitiesNature of day-to-day workColleaguesEmployer having an important purposeSalary\n",
      "Curious about other findings, like the proportion of “cat people” versus “dog people” among Goldman Sachs’ intern class? You can explore the 2020 Goldman Sachs intern survey in full! And don’t forget to follow Goldman Sachs on Handshake to get notified when they post new jobs, attend virtual career fairs at your school, and more. \n",
      "Photo by cottonbro from Pexels\n",
      "\n"
     ]
    }
   ],
   "source": [
    "for data in survey. find_all('div',class_='entry-content' ):\n",
    "    print(data.get_text())"
   ]
  },
  {
   "cell_type": "markdown",
   "metadata": {},
   "source": [
    "Extract the main idea of the text"
   ]
  },
  {
   "cell_type": "code",
   "execution_count": 297,
   "metadata": {},
   "outputs": [
    {
     "name": "stdout",
     "output_type": "stream",
     "text": [
      "Remote work isn’t going anywhere \n",
      "COVID-19 has made priorities crystal clear\n"
     ]
    }
   ],
   "source": [
    "find=survey.find_all('h3')\n",
    "for h3 in find:\n",
    "    print(h3.text)"
   ]
  },
  {
   "cell_type": "markdown",
   "metadata": {},
   "source": [
    "### <span id=\"E\"> Extract Certain Paragraphy of the webpage</span> "
   ]
  },
  {
   "cell_type": "code",
   "execution_count": 300,
   "metadata": {
    "scrolled": true
   },
   "outputs": [
    {
     "name": "stdout",
     "output_type": "stream",
     "text": [
      "When asked about their top concerns while looking for their next role, salary fell behind the employer’s core mission. In a year when organizations were defined by their stances on important topics like racial equity, it’s no surprise that college students want to work for companies that contribute to an important cause. Here are their top reported concerns for future jobs, in order:\n"
     ]
    }
   ],
   "source": [
    "print (survey.find_all('p')[7].text)"
   ]
  },
  {
   "cell_type": "markdown",
   "metadata": {},
   "source": [
    "Extract content between ol tag. "
   ]
  },
  {
   "cell_type": "code",
   "execution_count": 304,
   "metadata": {
    "scrolled": false
   },
   "outputs": [
    {
     "name": "stdout",
     "output_type": "stream",
     "text": [
      "<ol><li>Advancement opportunities</li><li>Nature of day-to-day work</li><li>Colleagues</li><li>Employer having an important purpose</li><li>Salary</li></ol>\n"
     ]
    }
   ],
   "source": [
    "\n",
    "for data in survey. find_all('ol'):\n",
    "    \n",
    "    print(data)"
   ]
  },
  {
   "cell_type": "markdown",
   "metadata": {},
   "source": [
    "### <span id=\"1\"> Plot 1</span> "
   ]
  },
  {
   "cell_type": "code",
   "execution_count": 303,
   "metadata": {
    "scrolled": true
   },
   "outputs": [
    {
     "data": {
      "text/plain": [
       "<Figure size 1080x720 with 0 Axes>"
      ]
     },
     "metadata": {},
     "output_type": "display_data"
    },
    {
     "data": {
      "image/png": "[encoded data removed]",
      "text/plain": [
       "<Figure size 432x288 with 1 Axes>"
      ]
     },
     "metadata": {
      "needs_background": "light"
     },
     "output_type": "display_data"
    }
   ],
   "source": [
    "\n",
    "plt.figure(figsize=(15,10))\n",
    "x=[1,2,3,4,8]\n",
    "y1=[1,1, 2, 3, 5]\n",
    "y2=[0,4, 2, 6 ,8]\n",
    "y3=[1,3, 5, 7,9]\n",
    "y4=[1,4,6,8,10]\n",
    "y5=[1,5,7,9,11]\n",
    "y=np.vstack([y1,y2,y3,y4,y5])\n",
    "labels=['Salary','Employer having an important purpose','Colleagues','Nature of day-to-day work','Advancement opportunities'] \n",
    "fig,ax=plt.subplots()\n",
    "ax.stackplot(x,y1,y2,y3, y4,y5, labels=labels)\n",
    "ax.legend(loc='upper left')\n",
    "plt.show()\n"
   ]
  },
  {
   "cell_type": "markdown",
   "metadata": {},
   "source": [
    "Students top concerns when looking for job . in order: Advancement opportunities,Nature of day-to-day work, Colleagues, Employer having an important purpose,Salary."
   ]
  },
  {
   "cell_type": "markdown",
   "metadata": {},
   "source": [
    "Extract 4th paragraphy of the text"
   ]
  },
  {
   "cell_type": "code",
   "execution_count": 305,
   "metadata": {
    "scrolled": true
   },
   "outputs": [
    {
     "name": "stdout",
     "output_type": "stream",
     "text": [
      "A majority 63% of interns surveyed believe that COVID-19 will lead to increased remote work options and lasting professional flexibility. This positive sentiment toward a virtual future is undoubtedly due to the positive experience described in many of the reviews left by interns who worked remotely: “Goldman Sachs did a wonderful job giving the interns the best experience possible without being in office. The projects I was given to work on really gave me a sense of what I would be doing if I were a full-time employee.” \n"
     ]
    }
   ],
   "source": [
    "print (survey.find_all('p')[4].text)"
   ]
  },
  {
   "cell_type": "markdown",
   "metadata": {},
   "source": [
    "Extract 5th paragraphy of the text"
   ]
  },
  {
   "cell_type": "code",
   "execution_count": 306,
   "metadata": {
    "scrolled": false
   },
   "outputs": [
    {
     "name": "stdout",
     "output_type": "stream",
     "text": [
      "Despite great experiences during their virtual summer at Goldman Sachs, 75% of the respondents fear that remote work and school will negatively impact their relationships; a concern echoed in a recent Handshake survey about mental health. Perhaps that’s why video calls are so important: 64% of the intern class prefers connecting face-to-face through video, instead of talking on the phone. \n"
     ]
    }
   ],
   "source": [
    "print (survey.find_all('p')[5].text)"
   ]
  },
  {
   "cell_type": "markdown",
   "metadata": {},
   "source": [
    "### <span id=\"2\"> Plot 2</span> "
   ]
  },
  {
   "cell_type": "code",
   "execution_count": 307,
   "metadata": {
    "scrolled": false
   },
   "outputs": [
    {
     "data": {
      "image/png": "[encoded data removed]",
      "text/plain": [
       "<Figure size 576x360 with 1 Axes>"
      ]
     },
     "metadata": {
      "needs_background": "light"
     },
     "output_type": "display_data"
    }
   ],
   "source": [
    "plt.figure(figsize=(8,5))\n",
    "box=[[1,3,5],[1,5,6],[1,2,4]]\n",
    "labels=['1:increased remote work options and lasting professional flexibility','2:remote work and school will negatively impact their relationships','3:prefers connecting face-to-face through video not talking on the phone'] \n",
    "plt. boxplot(box, patch_artist=True, boxprops=dict(facecolor='r') )\n",
    "plt.legend(labels, bbox_to_anchor=(0.5, 1.15),loc='upper left') \n",
    "plt.show()"
   ]
  },
  {
   "cell_type": "markdown",
   "metadata": {},
   "source": [
    "63% of interns surveyed believe that COVID-19 will lead to increased remote work options and lasting professional flexibility, 75% of the respondents fear that remote work and school will negatively impact their relationships,64% of the intern  prefers connecting face-to-face through video, instead of talking on the phone.  "
   ]
  },
  {
   "cell_type": "markdown",
   "metadata": {},
   "source": [
    "### <span id=\"I\">Extract information from another webpage </span> "
   ]
  },
  {
   "cell_type": "code",
   "execution_count": 317,
   "metadata": {},
   "outputs": [],
   "source": [
    "url='https://learn.joinhandshake.com/our-team/gen-z-pragmatism-about-the-coming-job-market-debt/'"
   ]
  },
  {
   "cell_type": "code",
   "execution_count": 318,
   "metadata": {},
   "outputs": [
    {
     "name": "stdout",
     "output_type": "stream",
     "text": [
      "<Response [200]>\n"
     ]
    }
   ],
   "source": [
    "response3=requests.get(url)\n",
    "\n",
    "print(response3)"
   ]
  },
  {
   "cell_type": "markdown",
   "metadata": {},
   "source": [
    "newpage=BeautifulSoup(response3.content)\n"
   ]
  },
  {
   "cell_type": "markdown",
   "metadata": {},
   "source": [
    "Title of the new text."
   ]
  },
  {
   "cell_type": "code",
   "execution_count": 320,
   "metadata": {
    "scrolled": true
   },
   "outputs": [
    {
     "name": "stdout",
     "output_type": "stream",
     "text": [
      "Data Reveals Gen Z's Pragmatism About the Job Market & Student Debt\n"
     ]
    }
   ],
   "source": [
    "\n",
    "for title in newpage. find_all('h1',class_=\"title\" ):\n",
    "    print(title.get_text())"
   ]
  },
  {
   "cell_type": "markdown",
   "metadata": {},
   "source": [
    "Read a paragraphy of the text."
   ]
  },
  {
   "cell_type": "code",
   "execution_count": 331,
   "metadata": {
    "scrolled": true
   },
   "outputs": [
    {
     "name": "stdout",
     "output_type": "stream",
     "text": [
      "Regarding a potential recession, 57.7% of Gen Z respondents said they are very concerned or somewhat concerned, 30.1% are neutral, and only 13.2% are unconcerned. Perhaps their outlook is influenced in part by their family’s experience of the Great Recession of 2008: 16.4% of respondents said one parent lost a job, 7.9% reported both parents lost their jobs and 20.1% said one or both parents lost wages as a result.\n"
     ]
    }
   ],
   "source": [
    "print (newpage.find_all('p')[8].text)"
   ]
  },
  {
   "cell_type": "markdown",
   "metadata": {},
   "source": [
    "### <span id=\"3\"> Plot 3</span> "
   ]
  },
  {
   "cell_type": "code",
   "execution_count": 326,
   "metadata": {
    "scrolled": true
   },
   "outputs": [
    {
     "data": {
      "image/png": "[encoded data removed]",
      "text/plain": [
       "<Figure size 576x360 with 1 Axes>"
      ]
     },
     "metadata": {},
     "output_type": "display_data"
    }
   ],
   "source": [
    "plt.figure(figsize=(8,5))\n",
    "size=[57.7, 30.1, 13.2]\n",
    "mylabels=['Concerned or somewhat concerned','Neutral','Unconcerned']\n",
    "plt. pie(size, labels=mylabels, autopct='%1.1f%%')\n",
    "plt. legend(bbox_to_anchor=(1.05, 1),loc='upper left')\n",
    "plt.title('Regarding Potential Recession')\n",
    "plt. show()"
   ]
  },
  {
   "cell_type": "markdown",
   "metadata": {},
   "source": [
    "Regarding a potential recession, 57.7% of Gen Z respondents said they are very concerned or somewhat concerned, 30.1% are neutral, and only 13.2% are unconcerned. "
   ]
  },
  {
   "cell_type": "markdown",
   "metadata": {},
   "source": [
    "Read another paragraphy of the text."
   ]
  },
  {
   "cell_type": "code",
   "execution_count": 332,
   "metadata": {
    "scrolled": true
   },
   "outputs": [
    {
     "name": "stdout",
     "output_type": "stream",
     "text": [
      "This group is also coming to the workforce prepared: 36.3% of students will complete two to three internships before graduation and 76.8% will have at least one. These responses are consistent with their beliefs about the most important tools to land a job. They ranked internships and relevant skills at the top of the list and academic performance third. \n"
     ]
    }
   ],
   "source": [
    "print (newpage.find_all('p')[11].text)"
   ]
  },
  {
   "cell_type": "markdown",
   "metadata": {},
   "source": [
    "### <span id=\"4\"> Plot 4</span> "
   ]
  },
  {
   "cell_type": "code",
   "execution_count": 348,
   "metadata": {},
   "outputs": [
    {
     "data": {
      "image/png": "[encoded data removed]",
      "text/plain": [
       "<Figure size 576x360 with 1 Axes>"
      ]
     },
     "metadata": {
      "needs_background": "light"
     },
     "output_type": "display_data"
    }
   ],
   "source": [
    "plt.figure(figsize=(8,5))\n",
    "name = ['academic perfomance','relevent skills','internships']\n",
    "importance=[60,80,100]\n",
    "\n",
    "\n",
    "plt.barh(name,importance)\n",
    "plt. title('Skills Rank')\n",
    "plt.ylabel('name')\n",
    "plt.xlabel('importance')\n",
    "plt.show()"
   ]
  },
  {
   "cell_type": "markdown",
   "metadata": {},
   "source": [
    "They ranked internships and relevant skills at the top of the list and academic performance third."
   ]
  },
  {
   "cell_type": "markdown",
   "metadata": {},
   "source": [
    "### <span id=\"u\">Summary </span> "
   ]
  },
  {
   "cell_type": "markdown",
   "metadata": {},
   "source": [
    "After using Beautiful soup to webscrape the HandShake website, I have several findings:\n",
    "1. I learned 5 top tips to write a cover letter, they are:\n",
    "    Customize each letter\n",
    "    Include keywords and supporting details\n",
    "    Highlight coursework and extracurriculars\n",
    "    Share what you’d like to accomplish\n",
    "    Proofread and ask for feedback\n",
    "2.  Students top concerns when looking for job . in order are: Advancement opportunities,Nature of day-to-day work, Colleagues, Employer having an important purpose,Salary.\n",
    "3.  In a survey, 63% of interns believe that COVID-19 will lead to increased remote work options, 75% of the respondents fear that remote work and school will negatively impact their relationships,64% of them prefers connection through video, instead of talking on the phone.\n",
    "4.  Regarding a potential recession, 57.7% of Gen Z respondents express they are very concerned or somewhat concerned, 30.1% are neutral, and only 13.2% are unconcerned.\n",
    "5.  Students ranked internships and relevant skills at the top of the list and academic performance third.\n"
   ]
  },
  {
   "cell_type": "markdown",
   "metadata": {},
   "source": [
    "### <span id=\"Co\">Conclusion</span> "
   ]
  },
  {
   "cell_type": "markdown",
   "metadata": {},
   "source": [
    "After exploring this website in depth, I believe Handshake is very useful for students looking for the first job, In Handshake, you not only browse job information, but also are able to access various learning resource which sharp your softskills for interview. \n",
    "\n",
    "Considering longterm career development, Advanced opportunity, in other words,the growth of your ablibity brough from the job should be the first piority.\n",
    "\n",
    "Regarding to COVID_19, students hold different perspectives, some are positive, some are negative. Particularly, in recession time, experience and relevant skills are very important. it is highly recommended that students take at least one internship before graduation. "
   ]
  },
  {
   "cell_type": "code",
   "execution_count": null,
   "metadata": {},
   "outputs": [],
   "source": []
  }
 ],
 "metadata": {
  "kernelspec": {
   "display_name": "Python 3",
   "language": "python",
   "name": "python3"
  },
  "language_info": {
   "codemirror_mode": {
    "name": "ipython",
    "version": 3
   },
   "file_extension": ".py",
   "mimetype": "text/x-python",
   "name": "python",
   "nbconvert_exporter": "python",
   "pygments_lexer": "ipython3",
   "version": "3.8.5"
  }
 },
 "nbformat": 4,
 "nbformat_minor": 4
}
